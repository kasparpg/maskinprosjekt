{
 "cells": [
  {
   "cell_type": "code",
   "execution_count": 65,
   "metadata": {},
   "outputs": [],
   "source": [
    "import pandas as pd\n",
    "\n",
    "from utils import only_2016_data\n",
    "\n",
    "spatial = pd.read_csv('data/grunnkrets_norway_stripped.csv')\n",
    "age = pd.read_csv('data/grunnkrets_age_distribution.csv')\n",
    "income = pd.read_csv('data/grunnkrets_income_households.csv').set_index(['grunnkrets_id', 'year']).add_prefix('income_').reset_index()\n",
    "households = pd.read_csv('data/grunnkrets_households_num_persons.csv')\n",
    "submission = pd.read_csv('data/sample_submission.csv')\n",
    "plaace = pd.read_csv('data/plaace_hierarchy.csv')\n",
    "busstops = pd.read_csv('data/busstops_norway.csv')\n",
    "\n",
    "train = pd.read_csv('data/stores_train.csv') #.drop(columns=['year'])\n",
    "test = pd.read_csv('data/stores_test.csv') "
   ]
  },
  {
   "cell_type": "code",
   "execution_count": 66,
   "metadata": {},
   "outputs": [],
   "source": [
    "spatial_2016 = only_2016_data(spatial)\n",
    "income_2016 = only_2016_data(income)\n",
    "households_2016 = only_2016_data(households)\n",
    "\n",
    "train_spatial = train.merge(spatial_2016.drop(columns=['year']), on='grunnkrets_id', how='left')\n",
    "train_income = train.merge(income_2016.drop(columns=['year']), on='grunnkrets_id', how='left')\n",
    "train_house = train.merge(households_2016.drop(columns=['year']), on='grunnkrets_id', how='left')\n",
    "\n",
    "train_house_no_nan = train_house[pd.notnull(train_house.couple_children_0_to_5_years)]\n",
    "train_spatial_no_nan = train_spatial[pd.notnull(train_spatial.grunnkrets_name)]\n",
    "train_income_no_nan = train_income[pd.notnull(train_income.income_all_households)]"
   ]
  },
  {
   "cell_type": "code",
   "execution_count": null,
   "metadata": {},
   "outputs": [],
   "source": [
    "def clean_out_nan_heavy_rows(df: pd.DataFrame):\n",
    "    \"\"\"Cleans out rows that have no match in the spatial, income or household datasets.\"\"\"\n",
    "\n",
    "    df2 = df.merge(spatial_2016.drop(columns=['year']), on='grunnkrets_id', how='left')\n",
    "    df2 = df2.merge(income_2016.drop(columns=['year']), on='grunnkrets_id', how='left')\n",
    "    df2 = df2.merge(households_2016.drop(columns=['year']), on='grunnkrets_id', how='left')\n",
    "\n",
    "    df_cleaned = df2[\n",
    "        ~(df2.couple_children_0_to_5_years.isna() | df2.grunnkrets_name.isna() | df2.income_all_households.isna())\n",
    "    ]\n",
    "\n",
    "    print(f'Cleaned out {len(df) - len(df_cleaned)} out of {len(df)} rows.')\n",
    "\n",
    "    return df_cleaned\n",
    "\n"
   ]
  },
  {
   "cell_type": "code",
   "execution_count": 76,
   "metadata": {},
   "outputs": [],
   "source": [
    "test_df = test.merge(spatial_2016.drop(columns=['year']), on='grunnkrets_id', how='left')\n",
    "test_df = test_df.merge(income_2016.drop(columns=['year']), on='grunnkrets_id', how='left')\n",
    "test_df = test_df.merge(households_2016.drop(columns=['year']), on='grunnkrets_id', how='left')\n",
    "\n",
    "assert len(test) == len(test_df)\n",
    "\n",
    "test_cleaned = test_df[\n",
    "    ~(test_df.couple_children_0_to_5_years.isna() | test_df.grunnkrets_name.isna() | test_df.income_all_households.isna())\n",
    "]\n"
   ]
  },
  {
   "cell_type": "code",
   "execution_count": 80,
   "metadata": {},
   "outputs": [
    {
     "name": "stdout",
     "output_type": "stream",
     "text": [
      "8577 8507 8577\n"
     ]
    },
    {
     "data": {
      "text/plain": [
       "store_id                                   0\n",
       "year                                       0\n",
       "store_name                                 0\n",
       "plaace_hierarchy_id                        0\n",
       "sales_channel_name                         0\n",
       "grunnkrets_id                              0\n",
       "address                                 1237\n",
       "lat                                        0\n",
       "lon                                        0\n",
       "chain_name                              6099\n",
       "mall_name                               7084\n",
       "grunnkrets_name                           27\n",
       "district_name                             27\n",
       "municipality_name                         27\n",
       "geometry                                  27\n",
       "area_km2                                  27\n",
       "income_all_households                     27\n",
       "income_singles                            27\n",
       "income_couple_without_children            27\n",
       "income_couple_with_children               27\n",
       "income_other_households                   27\n",
       "income_single_parent_with_children        27\n",
       "couple_children_0_to_5_years              70\n",
       "couple_children_18_or_above               70\n",
       "couple_children_6_to_17_years             70\n",
       "couple_without_children                   70\n",
       "single_parent_children_0_to_5_years       70\n",
       "single_parent_children_18_or_above        70\n",
       "single_parent_children_6_to_17_years      70\n",
       "singles                                   70\n",
       "dtype: int64"
      ]
     },
     "execution_count": 80,
     "metadata": {},
     "output_type": "execute_result"
    }
   ],
   "source": [
    "print(len(test), len(test_cleaned), len(test_df))\n",
    "test.isna().sum()\n",
    "test_cleaned.isna().sum()\n",
    "test_df.isna().sum()"
   ]
  },
  {
   "cell_type": "code",
   "execution_count": 68,
   "metadata": {},
   "outputs": [
    {
     "ename": "AttributeError",
     "evalue": "'DataFrame' object has no attribute 'couple_children_0_to_5_years'",
     "output_type": "error",
     "traceback": [
      "\u001b[0;31m---------------------------------------------------------------------------\u001b[0m",
      "\u001b[0;31mAttributeError\u001b[0m                            Traceback (most recent call last)",
      "Cell \u001b[0;32mIn [68], line 8\u001b[0m\n\u001b[1;32m      3\u001b[0m train_df \u001b[39m=\u001b[39m train_df\u001b[39m.\u001b[39mmerge(households_2016\u001b[39m.\u001b[39mdrop(columns\u001b[39m=\u001b[39m[\u001b[39m'\u001b[39m\u001b[39myear\u001b[39m\u001b[39m'\u001b[39m]), on\u001b[39m=\u001b[39m\u001b[39m'\u001b[39m\u001b[39mgrunnkrets_id\u001b[39m\u001b[39m'\u001b[39m, how\u001b[39m=\u001b[39m\u001b[39m'\u001b[39m\u001b[39mleft\u001b[39m\u001b[39m'\u001b[39m)\n\u001b[1;32m      5\u001b[0m \u001b[39massert\u001b[39;00m \u001b[39mlen\u001b[39m(train) \u001b[39m==\u001b[39m \u001b[39mlen\u001b[39m(train_df)\n\u001b[1;32m      7\u001b[0m train \u001b[39m=\u001b[39m train_df[\n\u001b[0;32m----> 8\u001b[0m     \u001b[39m~\u001b[39m(train_df\u001b[39m.\u001b[39;49mcouple_children_0_to_5_years\u001b[39m.\u001b[39misna() \u001b[39m|\u001b[39m train_df\u001b[39m.\u001b[39mgrunnkrets_name\u001b[39m.\u001b[39misna() \u001b[39m|\u001b[39m train_df\u001b[39m.\u001b[39mincome_all_households\u001b[39m.\u001b[39misna())\n\u001b[1;32m      9\u001b[0m ]\n\u001b[1;32m     13\u001b[0m train\u001b[39m.\u001b[39misna()\u001b[39m.\u001b[39msum()\n",
      "File \u001b[0;32m~/Desktop/maskinprosjekt/venv/lib/python3.8/site-packages/pandas/core/generic.py:5902\u001b[0m, in \u001b[0;36mNDFrame.__getattr__\u001b[0;34m(self, name)\u001b[0m\n\u001b[1;32m   5895\u001b[0m \u001b[39mif\u001b[39;00m (\n\u001b[1;32m   5896\u001b[0m     name \u001b[39mnot\u001b[39;00m \u001b[39min\u001b[39;00m \u001b[39mself\u001b[39m\u001b[39m.\u001b[39m_internal_names_set\n\u001b[1;32m   5897\u001b[0m     \u001b[39mand\u001b[39;00m name \u001b[39mnot\u001b[39;00m \u001b[39min\u001b[39;00m \u001b[39mself\u001b[39m\u001b[39m.\u001b[39m_metadata\n\u001b[1;32m   5898\u001b[0m     \u001b[39mand\u001b[39;00m name \u001b[39mnot\u001b[39;00m \u001b[39min\u001b[39;00m \u001b[39mself\u001b[39m\u001b[39m.\u001b[39m_accessors\n\u001b[1;32m   5899\u001b[0m     \u001b[39mand\u001b[39;00m \u001b[39mself\u001b[39m\u001b[39m.\u001b[39m_info_axis\u001b[39m.\u001b[39m_can_hold_identifiers_and_holds_name(name)\n\u001b[1;32m   5900\u001b[0m ):\n\u001b[1;32m   5901\u001b[0m     \u001b[39mreturn\u001b[39;00m \u001b[39mself\u001b[39m[name]\n\u001b[0;32m-> 5902\u001b[0m \u001b[39mreturn\u001b[39;00m \u001b[39mobject\u001b[39;49m\u001b[39m.\u001b[39;49m\u001b[39m__getattribute__\u001b[39;49m(\u001b[39mself\u001b[39;49m, name)\n",
      "\u001b[0;31mAttributeError\u001b[0m: 'DataFrame' object has no attribute 'couple_children_0_to_5_years'"
     ]
    }
   ],
   "source": [
    "train_df = train.merge(spatial_2016.drop(columns=['year']), on='grunnkrets_id', how='left')\n",
    "train_df = train_df.merge(income_2016.drop(columns=['year']), on='grunnkrets_id', how='left')\n",
    "train_df = train_df.merge(households_2016.drop(columns=['year']), on='grunnkrets_id', how='left')\n",
    "\n",
    "assert len(train) == len(train_df)\n",
    "\n",
    "train = train_df[\n",
    "    ~(train_df.couple_children_0_to_5_years.isna() | train_df.grunnkrets_name.isna() | train_df.income_all_households.isna())\n",
    "]\n",
    "\n",
    "\n",
    "\n"
   ]
  },
  {
   "cell_type": "code",
   "execution_count": 70,
   "metadata": {},
   "outputs": [
    {
     "name": "stdout",
     "output_type": "stream",
     "text": [
      "12732 12732\n"
     ]
    },
    {
     "data": {
      "text/plain": [
       "store_id                                    0\n",
       "year                                        0\n",
       "store_name                                  0\n",
       "plaace_hierarchy_id                         0\n",
       "sales_channel_name                          0\n",
       "grunnkrets_id                               0\n",
       "address                                  1756\n",
       "lat                                         0\n",
       "lon                                         0\n",
       "chain_name                               9030\n",
       "mall_name                               10479\n",
       "revenue                                     0\n",
       "grunnkrets_name                             0\n",
       "district_name                               0\n",
       "municipality_name                           0\n",
       "geometry                                    0\n",
       "area_km2                                    0\n",
       "income_all_households                       0\n",
       "income_singles                              0\n",
       "income_couple_without_children              0\n",
       "income_couple_with_children                 0\n",
       "income_other_households                     0\n",
       "income_single_parent_with_children          0\n",
       "couple_children_0_to_5_years                0\n",
       "couple_children_18_or_above                 0\n",
       "couple_children_6_to_17_years               0\n",
       "couple_without_children                     0\n",
       "single_parent_children_0_to_5_years         0\n",
       "single_parent_children_18_or_above          0\n",
       "single_parent_children_6_to_17_years        0\n",
       "singles                                     0\n",
       "dtype: int64"
      ]
     },
     "execution_count": 70,
     "metadata": {},
     "output_type": "execute_result"
    }
   ],
   "source": [
    "print(len(train), len(train_df))\n",
    "train.isna().sum()"
   ]
  },
  {
   "cell_type": "code",
   "execution_count": 25,
   "metadata": {},
   "outputs": [
    {
     "name": "stdout",
     "output_type": "stream",
     "text": [
      "12859 12859\n"
     ]
    },
    {
     "data": {
      "text/plain": [
       "False    12735\n",
       "True       124\n",
       "Name: grunnkrets_id, dtype: int64"
      ]
     },
     "execution_count": 25,
     "metadata": {},
     "output_type": "execute_result"
    }
   ],
   "source": [
    "train_house_nans = train_house.grunnkrets_id[pd.isnull(train_house.couple_children_0_to_5_years)]\n",
    "train_spatial_nans = train_spatial.grunnkrets_id[pd.isnull(train_spatial.grunnkrets_name)]\n",
    "train_income_nans = train_income.income_all_households[pd.isnull(train_income.income_all_households)]\n",
    "\n",
    "train_cleaned = train[\n",
    "    ~(train.grunnkrets_id.isin(train_house_nans)) \\\n",
    "    | ~(train.grunnkrets_id.isin(train_spatial_nans)) \\\n",
    "    | ~(train.grunnkrets_id.isin(train_income_nans))\n",
    "]\n",
    "\n",
    "print(len(train), len(train_cleaned))\n",
    "train_cleaned.isna().sum()\n",
    "\n",
    "train.grunnkrets_id.isin(train_house_nans).value_counts()"
   ]
  },
  {
   "cell_type": "code",
   "execution_count": 6,
   "metadata": {},
   "outputs": [
    {
     "data": {
      "text/plain": [
       "store_id                                    0\n",
       "year                                        0\n",
       "store_name                                  0\n",
       "plaace_hierarchy_id                         0\n",
       "sales_channel_name                          0\n",
       "grunnkrets_id                               0\n",
       "address                                  1774\n",
       "lat                                         0\n",
       "lon                                         0\n",
       "chain_name                               9122\n",
       "mall_name                               10579\n",
       "revenue                                     0\n",
       "grunnkrets_name                            30\n",
       "district_name                              30\n",
       "municipality_name                          30\n",
       "geometry                                   30\n",
       "area_km2                                   30\n",
       "income_all_households                      33\n",
       "income_singles                             33\n",
       "income_couple_without_children             33\n",
       "income_couple_with_children                33\n",
       "income_other_households                    33\n",
       "income_single_parent_with_children         33\n",
       "couple_children_0_to_5_years              124\n",
       "couple_children_18_or_above               124\n",
       "couple_children_6_to_17_years             124\n",
       "couple_without_children                   124\n",
       "single_parent_children_0_to_5_years       124\n",
       "single_parent_children_18_or_above        124\n",
       "single_parent_children_6_to_17_years      124\n",
       "singles                                   124\n",
       "dtype: int64"
      ]
     },
     "execution_count": 6,
     "metadata": {},
     "output_type": "execute_result"
    }
   ],
   "source": [
    "train_full = train.merge(spatial_2016.drop(columns=['year']), on='grunnkrets_id', how='left')\n",
    "train_full = train_full.merge(income_2016.drop(columns=['year']), on='grunnkrets_id', how='left')\n",
    "train_full = train_full.merge(households_2016.drop(columns=['year']), on='grunnkrets_id', how='left')\n",
    "\n",
    "train_full.isna().sum()"
   ]
  }
 ],
 "metadata": {
  "kernelspec": {
   "display_name": "Python 3.8.10 ('venv': venv)",
   "language": "python",
   "name": "python3"
  },
  "language_info": {
   "codemirror_mode": {
    "name": "ipython",
    "version": 3
   },
   "file_extension": ".py",
   "mimetype": "text/x-python",
   "name": "python",
   "nbconvert_exporter": "python",
   "pygments_lexer": "ipython3",
   "version": "3.8.10"
  },
  "orig_nbformat": 4,
  "vscode": {
   "interpreter": {
    "hash": "1beb4c19f9c9850d9088b15a4a1b3063555a573f9fb8d1ae667cbe7a8ada917e"
   }
  }
 },
 "nbformat": 4,
 "nbformat_minor": 2
}
