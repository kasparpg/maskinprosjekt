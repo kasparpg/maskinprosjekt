{
 "cells": [
  {
   "cell_type": "code",
   "execution_count": 1,
   "metadata": {},
   "outputs": [],
   "source": [
    "%load_ext autoreload"
   ]
  },
  {
   "cell_type": "code",
   "execution_count": 2,
   "metadata": {},
   "outputs": [],
   "source": [
    "%autoreload\n",
    "\n",
    "import warnings\n",
    "import os.path\n",
    "import numpy as np\n",
    "import seaborn as sns\n",
    "import pandas as pd\n",
    "import matplotlib.pyplot as plt\n",
    "import geopy\n",
    "import xgboost as xgb\n",
    "import os\n",
    "import shutil\n",
    "\n",
    "from shapely import wkt\n",
    "from retail_revenue_xgb import generate_features, create_buffer\n",
    "from sklearn.model_selection import train_test_split\n",
    "from utils import squared_log, rmsle\n",
    "from xgboost import plot_importance, to_graphviz\n",
    "\n",
    "pd.options.mode.chained_assignment = None  # default='warn'\n"
   ]
  },
  {
   "cell_type": "code",
   "execution_count": 3,
   "metadata": {},
   "outputs": [],
   "source": [
    "spatial = pd.read_csv('data/grunnkrets_norway_stripped.csv')\n",
    "age = pd.read_csv('data/grunnkrets_age_distribution.csv')\n",
    "income = pd.read_csv('data/grunnkrets_income_households.csv')\n",
    "households = pd.read_csv('data/grunnkrets_households_num_persons.csv')\n",
    "submission = pd.read_csv('data/sample_submission.csv')\n",
    "plaace = pd.read_csv('data/plaace_hierarchy.csv')\n",
    "busstops = pd.read_csv('data/busstops_norway.csv')\n",
    "\n",
    "\n",
    "def generate_features(df: pd.DataFrame):\n",
    "    features = ['year', 'store_name', 'mall_name', 'chain_name', 'address', 'lat', 'lon',\n",
    "                'plaace_hierarchy_id', 'grunnkrets_id']\n",
    "    df = df[features]\n",
    "    df['store_name'] = df['store_name'].astype('category')\n",
    "    # df['store_id'] = df['store_id'].astype('category')\n",
    "    df['address'] = df['address'].astype('category')\n",
    "    df['chain_name+mall_name'] = (df['chain_name'] + df['mall_name']).astype('category')\n",
    "    df['mall_name'] = df['mall_name'].astype('category')\n",
    "    df['chain_name'] = df['chain_name'].astype('category')\n",
    "    df['plaace_hierarchy_id'] = df['plaace_hierarchy_id'].astype('category')\n",
    "\n",
    "    # attempt to difference the lat and lon values, as they seem to be somewhat trending negatively.\n",
    "    df['lon'] = df['lon'].diff()\n",
    "    df['lat'] = df['lat'].diff()\n",
    "\n",
    "    # remove duplicates and merge with the spatial data.\n",
    "    spatial.drop_duplicates(subset=['grunnkrets_id'])\n",
    "    df = pd.merge(df, spatial.drop_duplicates(subset=['grunnkrets_id']), how='left')\n",
    "    df['grunnkrets_name'] = df['grunnkrets_name'].astype('category')\n",
    "    df['district_name'] = df['district_name'].astype('category')\n",
    "    df['municipality_name'] = df['municipality_name'].astype('category')\n",
    "    df['geometry'] = df['geometry'].astype('category')\n",
    "\n",
    "    # age.drop_duplicates(subset=['grunnkrets_id'])\n",
    "    # df = pd.merge(df, age.drop_duplicates(subset=['grunnkrets_id']), how='left')\n",
    "\n",
    "    income.drop_duplicates(subset=['grunnkrets_id'])\n",
    "    df = pd.merge(df, income.drop_duplicates(subset=['grunnkrets_id']), how='left')\n",
    "\n",
    "    households.drop_duplicates(subset=['grunnkrets_id'])\n",
    "    df = pd.merge(df, households.drop_duplicates(subset=['grunnkrets_id']), how='left')\n",
    "\n",
    "    plaace.drop_duplicates(subset=['plaace_hierarchy_id'])\n",
    "    df = pd.merge(df, plaace.drop_duplicates(subset=['plaace_hierarchy_id']), how='left')\n",
    "    df['plaace_hierarchy_id'] = df['plaace_hierarchy_id'].astype('category')\n",
    "    df['sales_channel_name'] = df['sales_channel_name'].astype('category')\n",
    "    df['lv1_desc'] = df['lv1_desc'].astype('category')\n",
    "    df['lv2_desc'] = df['lv2_desc'].astype('category')\n",
    "    df['lv3'] = df['lv3'].astype('category')\n",
    "    df['lv3_desc'] = df['lv3_desc'].astype('category')\n",
    "    df['lv4'] = df['lv4'].astype('category')\n",
    "    df['lv4_desc'] = df['lv4_desc'].astype('category')\n",
    "\n",
    "    df = df.drop(columns=['grunnkrets_id', 'plaace_hierarchy_id'])\n",
    "\n",
    "    return df\n",
    "\n",
    "\n",
    "train = pd.read_csv('data/stores_train.csv')\n",
    "test = pd.read_csv('data/stores_test.csv')\n",
    "\n",
    "label_name = 'revenue'\n",
    "X = train.drop(columns=[label_name])\n",
    "y = train[label_name]\n",
    "\n",
    "submission = pd.read_csv('data/sample_submission.csv')\n",
    "model_to_load = \"modeling/0002.model\"\n",
    "\n",
    "X_train, X_val, y_train, y_val = train_test_split(X, y, train_size=.8)\n",
    "\n",
    "X_train, X_val = generate_features(X_train), generate_features(X_val)\n"
   ]
  },
  {
   "cell_type": "code",
   "execution_count": 4,
   "metadata": {},
   "outputs": [
    {
     "name": "stdout",
     "output_type": "stream",
     "text": [
      "Deleted file: c:\\dev\\maskin\\maskinprosjekt\\modeling\\0002.model\n",
      "Deleted file: c:\\dev\\maskin\\maskinprosjekt\\modeling\\test.buffer\n",
      "Deleted file: c:\\dev\\maskin\\maskinprosjekt\\modeling\\train.buffer\n",
      "--> modeling/train.buffer created and saved.\n",
      "--> modeling/test.buffer created and saved.\n"
     ]
    }
   ],
   "source": [
    "# Clear buffers\n",
    "folder = os.path.join(os.getcwd(), 'modeling')\n",
    "for filename in os.listdir(folder):\n",
    "    file_path = os.path.join(folder, filename)\n",
    "    if os.path.isfile(file_path):\n",
    "        os.unlink(file_path)\n",
    "        print(f'Deleted file: {file_path}')\n",
    "\n",
    "train_buffer_path = 'modeling/train.buffer'\n",
    "test_buffer_path = 'modeling/test.buffer'\n",
    "\n",
    "dtrain = xgb.DMatrix(data=X_train, label=y_train, enable_categorical=True)\n",
    "dtrain.save_binary(train_buffer_path)\n",
    "print(f'--> {train_buffer_path} created and saved.')\n",
    "\n",
    "dvalid = xgb.DMatrix(data=X_val, label=y_val, enable_categorical=True)\n",
    "dvalid.save_binary(test_buffer_path)\n",
    "print(f'--> {test_buffer_path} created and saved.')\n"
   ]
  },
  {
   "cell_type": "code",
   "execution_count": 12,
   "metadata": {},
   "outputs": [
    {
     "name": "stdout",
     "output_type": "stream",
     "text": [
      "\n",
      "No model found. Attempt at creating a new one will now start:\n",
      "Attempting to initialize parameters for training...\n",
      "{'colsample_bytree': 0.7717138210314867, 'learning_rate': 0.047506668950627134, 'max_depth': 8, 'min_child_weight': 3, 'n_estimators': 223, 'subsample': 0.9929036803032936, 'disable_default_eval_metric': True}\n",
      "Attempting to start training...\n",
      "[10:03:54] WARNING: C:/Users/administrator/workspace/xgboost-win64_release_1.6.0/src/learner.cc:627: \n",
      "Parameters: { \"n_estimators\" } might not be used.\n",
      "\n",
      "  This could be a false alarm, with some parameters getting used by language bindings but\n",
      "  then being mistakenly passed down to XGBoost core, or some parameter actually being used\n",
      "  but getting flagged wrongly here. Please open an issue if you find any such cases.\n",
      "\n",
      "\n",
      "[0]\ttrain-RMSLE:1.54144\tvalid-RMSLE:1.55857\n",
      "[5]\ttrain-RMSLE:1.44422\tvalid-RMSLE:1.46343\n",
      "[10]\ttrain-RMSLE:1.35469\tvalid-RMSLE:1.37933\n",
      "[15]\ttrain-RMSLE:1.27224\tvalid-RMSLE:1.30187\n",
      "[20]\ttrain-RMSLE:1.19735\tvalid-RMSLE:1.23826\n",
      "[25]\ttrain-RMSLE:1.12937\tvalid-RMSLE:1.17536\n",
      "[30]\ttrain-RMSLE:1.06831\tvalid-RMSLE:1.12261\n",
      "[35]\ttrain-RMSLE:1.01303\tvalid-RMSLE:1.07283\n",
      "[40]\ttrain-RMSLE:0.96439\tvalid-RMSLE:1.03009\n",
      "[45]\ttrain-RMSLE:0.92239\tvalid-RMSLE:0.99431\n",
      "[50]\ttrain-RMSLE:0.88598\tvalid-RMSLE:0.96540\n",
      "[55]\ttrain-RMSLE:0.85533\tvalid-RMSLE:0.94322\n",
      "[60]\ttrain-RMSLE:0.82879\tvalid-RMSLE:0.92275\n",
      "[65]\ttrain-RMSLE:0.80720\tvalid-RMSLE:0.90704\n",
      "[70]\ttrain-RMSLE:0.78868\tvalid-RMSLE:0.89315\n",
      "[75]\ttrain-RMSLE:0.77425\tvalid-RMSLE:0.88523\n",
      "[80]\ttrain-RMSLE:0.76198\tvalid-RMSLE:0.87804\n",
      "[85]\ttrain-RMSLE:0.75269\tvalid-RMSLE:0.87287\n",
      "[90]\ttrain-RMSLE:0.74544\tvalid-RMSLE:0.86930\n",
      "[95]\ttrain-RMSLE:0.73983\tvalid-RMSLE:0.86700\n",
      "[100]\ttrain-RMSLE:0.73565\tvalid-RMSLE:0.86489\n"
     ]
    },
    {
     "ename": "KeyboardInterrupt",
     "evalue": "",
     "output_type": "error",
     "traceback": [
      "\u001b[1;31m---------------------------------------------------------------------------\u001b[0m",
      "\u001b[1;31mKeyboardInterrupt\u001b[0m                         Traceback (most recent call last)",
      "\u001b[1;32m~\\AppData\\Local\\Temp/ipykernel_9724/4185365414.py\u001b[0m in \u001b[0;36m<module>\u001b[1;34m\u001b[0m\n\u001b[0;32m     28\u001b[0m \u001b[1;33m\u001b[0m\u001b[0m\n\u001b[0;32m     29\u001b[0m \u001b[0mprint\u001b[0m\u001b[1;33m(\u001b[0m\u001b[1;34m\"Attempting to start training...\"\u001b[0m\u001b[1;33m)\u001b[0m\u001b[1;33m\u001b[0m\u001b[1;33m\u001b[0m\u001b[0m\n\u001b[1;32m---> 30\u001b[1;33m bst = xgb.train(\n\u001b[0m\u001b[0;32m     31\u001b[0m     \u001b[0mparams\u001b[0m\u001b[1;33m=\u001b[0m\u001b[0mparams\u001b[0m\u001b[1;33m,\u001b[0m\u001b[1;33m\u001b[0m\u001b[1;33m\u001b[0m\u001b[0m\n\u001b[0;32m     32\u001b[0m     \u001b[0mdtrain\u001b[0m\u001b[1;33m=\u001b[0m\u001b[0mdtrain\u001b[0m\u001b[1;33m,\u001b[0m\u001b[1;33m\u001b[0m\u001b[1;33m\u001b[0m\u001b[0m\n",
      "\u001b[1;32mc:\\Users\\oskar\\AppData\\Local\\Programs\\Python\\Python39\\lib\\site-packages\\xgboost\\core.py\u001b[0m in \u001b[0;36minner_f\u001b[1;34m(*args, **kwargs)\u001b[0m\n\u001b[0;32m    573\u001b[0m         \u001b[1;32mfor\u001b[0m \u001b[0mk\u001b[0m\u001b[1;33m,\u001b[0m \u001b[0marg\u001b[0m \u001b[1;32min\u001b[0m \u001b[0mzip\u001b[0m\u001b[1;33m(\u001b[0m\u001b[0msig\u001b[0m\u001b[1;33m.\u001b[0m\u001b[0mparameters\u001b[0m\u001b[1;33m,\u001b[0m \u001b[0margs\u001b[0m\u001b[1;33m)\u001b[0m\u001b[1;33m:\u001b[0m\u001b[1;33m\u001b[0m\u001b[1;33m\u001b[0m\u001b[0m\n\u001b[0;32m    574\u001b[0m             \u001b[0mkwargs\u001b[0m\u001b[1;33m[\u001b[0m\u001b[0mk\u001b[0m\u001b[1;33m]\u001b[0m \u001b[1;33m=\u001b[0m \u001b[0marg\u001b[0m\u001b[1;33m\u001b[0m\u001b[1;33m\u001b[0m\u001b[0m\n\u001b[1;32m--> 575\u001b[1;33m         \u001b[1;32mreturn\u001b[0m \u001b[0mf\u001b[0m\u001b[1;33m(\u001b[0m\u001b[1;33m**\u001b[0m\u001b[0mkwargs\u001b[0m\u001b[1;33m)\u001b[0m\u001b[1;33m\u001b[0m\u001b[1;33m\u001b[0m\u001b[0m\n\u001b[0m\u001b[0;32m    576\u001b[0m \u001b[1;33m\u001b[0m\u001b[0m\n\u001b[0;32m    577\u001b[0m     \u001b[1;32mreturn\u001b[0m \u001b[0minner_f\u001b[0m\u001b[1;33m\u001b[0m\u001b[1;33m\u001b[0m\u001b[0m\n",
      "\u001b[1;32mc:\\Users\\oskar\\AppData\\Local\\Programs\\Python\\Python39\\lib\\site-packages\\xgboost\\training.py\u001b[0m in \u001b[0;36mtrain\u001b[1;34m(params, dtrain, num_boost_round, evals, obj, feval, maximize, early_stopping_rounds, evals_result, verbose_eval, xgb_model, callbacks, custom_metric)\u001b[0m\n\u001b[0;32m    180\u001b[0m             \u001b[1;32mbreak\u001b[0m\u001b[1;33m\u001b[0m\u001b[1;33m\u001b[0m\u001b[0m\n\u001b[0;32m    181\u001b[0m         \u001b[0mbst\u001b[0m\u001b[1;33m.\u001b[0m\u001b[0mupdate\u001b[0m\u001b[1;33m(\u001b[0m\u001b[0mdtrain\u001b[0m\u001b[1;33m,\u001b[0m \u001b[0mi\u001b[0m\u001b[1;33m,\u001b[0m \u001b[0mobj\u001b[0m\u001b[1;33m)\u001b[0m\u001b[1;33m\u001b[0m\u001b[1;33m\u001b[0m\u001b[0m\n\u001b[1;32m--> 182\u001b[1;33m         \u001b[1;32mif\u001b[0m \u001b[0mcb_container\u001b[0m\u001b[1;33m.\u001b[0m\u001b[0mafter_iteration\u001b[0m\u001b[1;33m(\u001b[0m\u001b[0mbst\u001b[0m\u001b[1;33m,\u001b[0m \u001b[0mi\u001b[0m\u001b[1;33m,\u001b[0m \u001b[0mdtrain\u001b[0m\u001b[1;33m,\u001b[0m \u001b[0mevals\u001b[0m\u001b[1;33m)\u001b[0m\u001b[1;33m:\u001b[0m\u001b[1;33m\u001b[0m\u001b[1;33m\u001b[0m\u001b[0m\n\u001b[0m\u001b[0;32m    183\u001b[0m             \u001b[1;32mbreak\u001b[0m\u001b[1;33m\u001b[0m\u001b[1;33m\u001b[0m\u001b[0m\n\u001b[0;32m    184\u001b[0m \u001b[1;33m\u001b[0m\u001b[0m\n",
      "\u001b[1;32mc:\\Users\\oskar\\AppData\\Local\\Programs\\Python\\Python39\\lib\\site-packages\\xgboost\\callback.py\u001b[0m in \u001b[0;36mafter_iteration\u001b[1;34m(self, model, epoch, dtrain, evals)\u001b[0m\n\u001b[0;32m    244\u001b[0m             \u001b[0mmetric_score\u001b[0m \u001b[1;33m=\u001b[0m \u001b[1;33m[\u001b[0m\u001b[1;33m(\u001b[0m\u001b[0mn\u001b[0m\u001b[1;33m,\u001b[0m \u001b[0mfloat\u001b[0m\u001b[1;33m(\u001b[0m\u001b[0ms\u001b[0m\u001b[1;33m)\u001b[0m\u001b[1;33m)\u001b[0m \u001b[1;32mfor\u001b[0m \u001b[0mn\u001b[0m\u001b[1;33m,\u001b[0m \u001b[0ms\u001b[0m \u001b[1;32min\u001b[0m \u001b[0mmetric_score_str\u001b[0m\u001b[1;33m]\u001b[0m\u001b[1;33m\u001b[0m\u001b[1;33m\u001b[0m\u001b[0m\n\u001b[0;32m    245\u001b[0m             \u001b[0mself\u001b[0m\u001b[1;33m.\u001b[0m\u001b[0m_update_history\u001b[0m\u001b[1;33m(\u001b[0m\u001b[0mmetric_score\u001b[0m\u001b[1;33m,\u001b[0m \u001b[0mepoch\u001b[0m\u001b[1;33m)\u001b[0m\u001b[1;33m\u001b[0m\u001b[1;33m\u001b[0m\u001b[0m\n\u001b[1;32m--> 246\u001b[1;33m         ret = any(c.after_iteration(model, epoch, self.history)\n\u001b[0m\u001b[0;32m    247\u001b[0m                   for c in self.callbacks)\n\u001b[0;32m    248\u001b[0m         \u001b[1;32mreturn\u001b[0m \u001b[0mret\u001b[0m\u001b[1;33m\u001b[0m\u001b[1;33m\u001b[0m\u001b[0m\n",
      "\u001b[1;32mc:\\Users\\oskar\\AppData\\Local\\Programs\\Python\\Python39\\lib\\site-packages\\xgboost\\callback.py\u001b[0m in \u001b[0;36m<genexpr>\u001b[1;34m(.0)\u001b[0m\n\u001b[0;32m    244\u001b[0m             \u001b[0mmetric_score\u001b[0m \u001b[1;33m=\u001b[0m \u001b[1;33m[\u001b[0m\u001b[1;33m(\u001b[0m\u001b[0mn\u001b[0m\u001b[1;33m,\u001b[0m \u001b[0mfloat\u001b[0m\u001b[1;33m(\u001b[0m\u001b[0ms\u001b[0m\u001b[1;33m)\u001b[0m\u001b[1;33m)\u001b[0m \u001b[1;32mfor\u001b[0m \u001b[0mn\u001b[0m\u001b[1;33m,\u001b[0m \u001b[0ms\u001b[0m \u001b[1;32min\u001b[0m \u001b[0mmetric_score_str\u001b[0m\u001b[1;33m]\u001b[0m\u001b[1;33m\u001b[0m\u001b[1;33m\u001b[0m\u001b[0m\n\u001b[0;32m    245\u001b[0m             \u001b[0mself\u001b[0m\u001b[1;33m.\u001b[0m\u001b[0m_update_history\u001b[0m\u001b[1;33m(\u001b[0m\u001b[0mmetric_score\u001b[0m\u001b[1;33m,\u001b[0m \u001b[0mepoch\u001b[0m\u001b[1;33m)\u001b[0m\u001b[1;33m\u001b[0m\u001b[1;33m\u001b[0m\u001b[0m\n\u001b[1;32m--> 246\u001b[1;33m         ret = any(c.after_iteration(model, epoch, self.history)\n\u001b[0m\u001b[0;32m    247\u001b[0m                   for c in self.callbacks)\n\u001b[0;32m    248\u001b[0m         \u001b[1;32mreturn\u001b[0m \u001b[0mret\u001b[0m\u001b[1;33m\u001b[0m\u001b[1;33m\u001b[0m\u001b[0m\n",
      "\u001b[1;32mc:\\Users\\oskar\\AppData\\Local\\Programs\\Python\\Python39\\lib\\site-packages\\xgboost\\callback.py\u001b[0m in \u001b[0;36mafter_iteration\u001b[1;34m(self, model, epoch, evals_log)\u001b[0m\n\u001b[0;32m    431\u001b[0m             \u001b[0mmetric_name\u001b[0m \u001b[1;33m=\u001b[0m \u001b[0mlist\u001b[0m\u001b[1;33m(\u001b[0m\u001b[0mdata_log\u001b[0m\u001b[1;33m.\u001b[0m\u001b[0mkeys\u001b[0m\u001b[1;33m(\u001b[0m\u001b[1;33m)\u001b[0m\u001b[1;33m)\u001b[0m\u001b[1;33m[\u001b[0m\u001b[1;33m-\u001b[0m\u001b[1;36m1\u001b[0m\u001b[1;33m]\u001b[0m\u001b[1;33m\u001b[0m\u001b[1;33m\u001b[0m\u001b[0m\n\u001b[0;32m    432\u001b[0m         \u001b[0mscore\u001b[0m \u001b[1;33m=\u001b[0m \u001b[0mdata_log\u001b[0m\u001b[1;33m[\u001b[0m\u001b[0mmetric_name\u001b[0m\u001b[1;33m]\u001b[0m\u001b[1;33m[\u001b[0m\u001b[1;33m-\u001b[0m\u001b[1;36m1\u001b[0m\u001b[1;33m]\u001b[0m\u001b[1;33m\u001b[0m\u001b[1;33m\u001b[0m\u001b[0m\n\u001b[1;32m--> 433\u001b[1;33m         \u001b[1;32mreturn\u001b[0m \u001b[0mself\u001b[0m\u001b[1;33m.\u001b[0m\u001b[0m_update_rounds\u001b[0m\u001b[1;33m(\u001b[0m\u001b[0mscore\u001b[0m\u001b[1;33m,\u001b[0m \u001b[0mdata_name\u001b[0m\u001b[1;33m,\u001b[0m \u001b[0mmetric_name\u001b[0m\u001b[1;33m,\u001b[0m \u001b[0mmodel\u001b[0m\u001b[1;33m,\u001b[0m \u001b[0mepoch\u001b[0m\u001b[1;33m)\u001b[0m\u001b[1;33m\u001b[0m\u001b[1;33m\u001b[0m\u001b[0m\n\u001b[0m\u001b[0;32m    434\u001b[0m \u001b[1;33m\u001b[0m\u001b[0m\n\u001b[0;32m    435\u001b[0m     \u001b[1;32mdef\u001b[0m \u001b[0mafter_training\u001b[0m\u001b[1;33m(\u001b[0m\u001b[0mself\u001b[0m\u001b[1;33m,\u001b[0m \u001b[0mmodel\u001b[0m\u001b[1;33m)\u001b[0m\u001b[1;33m:\u001b[0m\u001b[1;33m\u001b[0m\u001b[1;33m\u001b[0m\u001b[0m\n",
      "\u001b[1;32mc:\\Users\\oskar\\AppData\\Local\\Programs\\Python\\Python39\\lib\\site-packages\\xgboost\\callback.py\u001b[0m in \u001b[0;36m_update_rounds\u001b[1;34m(self, score, name, metric, model, epoch)\u001b[0m\n\u001b[0;32m    397\u001b[0m             \u001b[0mself\u001b[0m\u001b[1;33m.\u001b[0m\u001b[0mbest_scores\u001b[0m\u001b[1;33m[\u001b[0m\u001b[0mname\u001b[0m\u001b[1;33m]\u001b[0m\u001b[1;33m[\u001b[0m\u001b[0mmetric\u001b[0m\u001b[1;33m]\u001b[0m\u001b[1;33m.\u001b[0m\u001b[0mappend\u001b[0m\u001b[1;33m(\u001b[0m\u001b[0mscore\u001b[0m\u001b[1;33m)\u001b[0m\u001b[1;33m\u001b[0m\u001b[1;33m\u001b[0m\u001b[0m\n\u001b[0;32m    398\u001b[0m             \u001b[0mrecord\u001b[0m \u001b[1;33m=\u001b[0m \u001b[0mself\u001b[0m\u001b[1;33m.\u001b[0m\u001b[0mstopping_history\u001b[0m\u001b[1;33m[\u001b[0m\u001b[0mname\u001b[0m\u001b[1;33m]\u001b[0m\u001b[1;33m[\u001b[0m\u001b[0mmetric\u001b[0m\u001b[1;33m]\u001b[0m\u001b[1;33m[\u001b[0m\u001b[1;33m-\u001b[0m\u001b[1;36m1\u001b[0m\u001b[1;33m]\u001b[0m\u001b[1;33m\u001b[0m\u001b[1;33m\u001b[0m\u001b[0m\n\u001b[1;32m--> 399\u001b[1;33m             \u001b[0mmodel\u001b[0m\u001b[1;33m.\u001b[0m\u001b[0mset_attr\u001b[0m\u001b[1;33m(\u001b[0m\u001b[0mbest_score\u001b[0m\u001b[1;33m=\u001b[0m\u001b[0mstr\u001b[0m\u001b[1;33m(\u001b[0m\u001b[0mrecord\u001b[0m\u001b[1;33m)\u001b[0m\u001b[1;33m,\u001b[0m \u001b[0mbest_iteration\u001b[0m\u001b[1;33m=\u001b[0m\u001b[0mstr\u001b[0m\u001b[1;33m(\u001b[0m\u001b[0mepoch\u001b[0m\u001b[1;33m)\u001b[0m\u001b[1;33m)\u001b[0m\u001b[1;33m\u001b[0m\u001b[1;33m\u001b[0m\u001b[0m\n\u001b[0m\u001b[0;32m    400\u001b[0m             \u001b[0mself\u001b[0m\u001b[1;33m.\u001b[0m\u001b[0mcurrent_rounds\u001b[0m \u001b[1;33m=\u001b[0m \u001b[1;36m0\u001b[0m  \u001b[1;31m# reset\u001b[0m\u001b[1;33m\u001b[0m\u001b[1;33m\u001b[0m\u001b[0m\n\u001b[0;32m    401\u001b[0m \u001b[1;33m\u001b[0m\u001b[0m\n",
      "\u001b[1;32mc:\\Users\\oskar\\AppData\\Local\\Programs\\Python\\Python39\\lib\\site-packages\\xgboost\\core.py\u001b[0m in \u001b[0;36mset_attr\u001b[1;34m(self, **kwargs)\u001b[0m\n\u001b[0;32m   1675\u001b[0m                     \u001b[1;32mraise\u001b[0m \u001b[0mValueError\u001b[0m\u001b[1;33m(\u001b[0m\u001b[1;34m\"Set Attr only accepts string values\"\u001b[0m\u001b[1;33m)\u001b[0m\u001b[1;33m\u001b[0m\u001b[1;33m\u001b[0m\u001b[0m\n\u001b[0;32m   1676\u001b[0m                 \u001b[0mvalue\u001b[0m \u001b[1;33m=\u001b[0m \u001b[0mc_str\u001b[0m\u001b[1;33m(\u001b[0m\u001b[0mstr\u001b[0m\u001b[1;33m(\u001b[0m\u001b[0mvalue\u001b[0m\u001b[1;33m)\u001b[0m\u001b[1;33m)\u001b[0m\u001b[1;33m\u001b[0m\u001b[1;33m\u001b[0m\u001b[0m\n\u001b[1;32m-> 1677\u001b[1;33m             _check_call(_LIB.XGBoosterSetAttr(\n\u001b[0m\u001b[0;32m   1678\u001b[0m                 self.handle, c_str(key), value))\n\u001b[0;32m   1679\u001b[0m \u001b[1;33m\u001b[0m\u001b[0m\n",
      "\u001b[1;31mKeyboardInterrupt\u001b[0m: "
     ]
    }
   ],
   "source": [
    "from sklearn.model_selection import GridSearchCV, RandomizedSearchCV, KFold\n",
    "from xgboost import XGBClassifier\n",
    "\n",
    "\n",
    "print(\"Attempting to initialize parameters for training...\")\n",
    "# params = {\n",
    "#     'max_depth': 9, \n",
    "#     'eta': 0.05, \n",
    "#     'min_child_weight': 7,\n",
    "#     'disable_default_eval_metric': True,\n",
    "# }\n",
    "# params = {'colsample_bytree': 0.5478255177656529, 'learning_rate': 0.02853786979050646, 'max_depth': 7, 'min_child_weight': 1, 'n_estimators': 195, 'subsample': 0.9733176496063143}\n",
    "params = {'colsample_bytree': 0.7717138210314867, 'learning_rate': 0.047506668950627134, 'max_depth': 8, 'min_child_weight': 3, 'n_estimators': 223, 'subsample': 0.9929036803032936}\n",
    "params['disable_default_eval_metric'] = True\n",
    "# print(\"--> parameters for training initialized.\")\n",
    "\n",
    "num_round = 999\n",
    "watchlist = [(dtrain, 'train'), (dvalid, 'valid')]\n",
    "\n",
    "print(\"Attempting to start training...\")\n",
    "bst = xgb.train(\n",
    "    params=params, \n",
    "    dtrain=dtrain, \n",
    "    num_boost_round=num_round, \n",
    "    obj=squared_log,\n",
    "    custom_metric=rmsle,\n",
    "    evals=watchlist, \n",
    "    early_stopping_rounds=10, \n",
    "    verbose_eval=5)\n",
    "print(\"--> model trained.\")\n",
    "\n",
    "print(\"Attempting to save model...\")\n",
    "bst.save_model(model_to_load)\n",
    "print(\"--> model saved.\")"
   ]
  },
  {
   "cell_type": "code",
   "execution_count": 6,
   "metadata": {},
   "outputs": [],
   "source": [
    "from utils import xgb_cross_validation\n",
    "\n",
    "params = {\n",
    "    'max_depth': range(9, 12),\n",
    "    'eta': [0.05, 0.1, 0.2, 0.3],\n",
    "    'min_child_weight': range(5, 8),\n",
    "    # 'disable_default_eval_metric': True,\n",
    "}\n",
    "\n",
    "# xgb_cross_validation(params, dtrain)\n"
   ]
  },
  {
   "cell_type": "code",
   "execution_count": 7,
   "metadata": {},
   "outputs": [
    {
     "name": "stdout",
     "output_type": "stream",
     "text": [
      "\n",
      "Attempting to start prediction...\n",
      "--> Prediction finished.\n",
      "\n",
      "Attempting to save prediction...\n",
      "--> prediction saved with features as name in submission folder.\n"
     ]
    },
    {
     "name": "stderr",
     "output_type": "stream",
     "text": [
      "c:\\Users\\oskar\\AppData\\Local\\Programs\\Python\\Python39\\lib\\site-packages\\xgboost\\core.py:91: UserWarning: ntree_limit is deprecated, use `iteration_range` or model slicing instead.\n",
      "  warnings.warn(\n"
     ]
    }
   ],
   "source": [
    "X_test = generate_features(test)\n",
    "dtest = xgb.DMatrix(data=X_test, enable_categorical=True)\n",
    "\n",
    "print(\"\\nAttempting to start prediction...\")\n",
    "y_pred = bst.predict(dtest, ntree_limit=bst.best_iteration)\n",
    "print(\"--> Prediction finished.\")\n",
    "\n",
    "print(\"\\nAttempting to save prediction...\")\n",
    "submission['predicted'] = np.array(y_pred)\n",
    "submission.to_csv('submissions/submission.csv', index=False)\n",
    "print(\"--> prediction saved with features as name in submission folder.\")"
   ]
  },
  {
   "cell_type": "code",
   "execution_count": 8,
   "metadata": {},
   "outputs": [
    {
     "ename": "NameError",
     "evalue": "name 'model' is not defined",
     "output_type": "error",
     "traceback": [
      "\u001b[1;31m---------------------------------------------------------------------------\u001b[0m",
      "\u001b[1;31mNameError\u001b[0m                                 Traceback (most recent call last)",
      "\u001b[1;32m~\\AppData\\Local\\Temp/ipykernel_9724/3892230781.py\u001b[0m in \u001b[0;36m<module>\u001b[1;34m\u001b[0m\n\u001b[0;32m      1\u001b[0m \u001b[1;32mfrom\u001b[0m \u001b[0mxgboost\u001b[0m \u001b[1;32mimport\u001b[0m \u001b[0mplot_tree\u001b[0m\u001b[1;33m\u001b[0m\u001b[1;33m\u001b[0m\u001b[0m\n\u001b[0;32m      2\u001b[0m \u001b[1;33m\u001b[0m\u001b[0m\n\u001b[1;32m----> 3\u001b[1;33m \u001b[0mplot_importance\u001b[0m\u001b[1;33m(\u001b[0m\u001b[0mmodel\u001b[0m\u001b[1;33m)\u001b[0m\u001b[1;33m\u001b[0m\u001b[1;33m\u001b[0m\u001b[0m\n\u001b[0m\u001b[0;32m      4\u001b[0m \u001b[0mxgb\u001b[0m\u001b[1;33m.\u001b[0m\u001b[0mto_graphviz\u001b[0m\u001b[1;33m(\u001b[0m\u001b[0mmodel\u001b[0m\u001b[1;33m,\u001b[0m \u001b[0mnum_trees\u001b[0m\u001b[1;33m=\u001b[0m\u001b[1;36m1\u001b[0m\u001b[1;33m)\u001b[0m\u001b[1;33m\u001b[0m\u001b[1;33m\u001b[0m\u001b[0m\n\u001b[0;32m      5\u001b[0m \u001b[1;31m# fig, ax = plt.subplots(figsize=(30, 30))\u001b[0m\u001b[1;33m\u001b[0m\u001b[1;33m\u001b[0m\u001b[0m\n",
      "\u001b[1;31mNameError\u001b[0m: name 'model' is not defined"
     ]
    }
   ],
   "source": [
    "from xgboost import plot_tree\n",
    "\n",
    "plot_importance(model)\n",
    "xgb.to_graphviz(model, num_trees=1)\n",
    "# fig, ax = plt.subplots(figsize=(30, 30))\n",
    "# xgb.plot_tree(bst, num_trees=1, ax=ax)\n",
    "# plt.savefig(\"temp.pdf\")\n",
    "# plt.show()\n"
   ]
  }
 ],
 "metadata": {
  "kernelspec": {
   "display_name": "Python 3.9.7 64-bit",
   "language": "python",
   "name": "python3"
  },
  "language_info": {
   "codemirror_mode": {
    "name": "ipython",
    "version": 3
   },
   "file_extension": ".py",
   "mimetype": "text/x-python",
   "name": "python",
   "nbconvert_exporter": "python",
   "pygments_lexer": "ipython3",
   "version": "3.9.7"
  },
  "orig_nbformat": 4,
  "vscode": {
   "interpreter": {
    "hash": "882a6b7fc3ca80e688227decd54209862062b8721a918d514e0ed60576137ba8"
   }
  }
 },
 "nbformat": 4,
 "nbformat_minor": 2
}
