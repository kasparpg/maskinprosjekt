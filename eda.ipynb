{
 "cells": [
  {
   "cell_type": "code",
   "execution_count": 66,
   "metadata": {},
   "outputs": [],
   "source": [
    "import pandas as pd\n",
    "\n",
    "from utils import only_2016_data\n",
    "\n",
    "spatial = pd.read_csv('data/grunnkrets_norway_stripped.csv')\n",
    "age = pd.read_csv('data/grunnkrets_age_distribution.csv')\n",
    "income = pd.read_csv('data/grunnkrets_income_households.csv').set_index(['grunnkrets_id', 'year']).add_prefix('income_').reset_index()\n",
    "households = pd.read_csv('data/grunnkrets_households_num_persons.csv')\n",
    "submission = pd.read_csv('data/sample_submission.csv')\n",
    "plaace = pd.read_csv('data/plaace_hierarchy.csv')\n",
    "busstops = pd.read_csv('data/busstops_norway.csv')\n",
    "\n",
    "train = pd.read_csv('data/stores_train.csv') #.drop(columns=['year'])\n",
    "test = pd.read_csv('data/stores_test.csv') "
   ]
  },
  {
   "cell_type": "code",
   "execution_count": 70,
   "metadata": {},
   "outputs": [],
   "source": [
    "spatial_2016 = only_2016_data(spatial)\n",
    "income_2016 = only_2016_data(income)\n",
    "households_2016 = only_2016_data(households)\n",
    "\n",
    "train_spatial = train.merge(spatial_2016.drop(columns=['year']), on='grunnkrets_id', how='left')\n",
    "train_income = train.merge(income_2016.drop(columns=['year']), on='grunnkrets_id', how='left')\n",
    "train_house = train.merge(households_2016.drop(columns=['year']), on='grunnkrets_id', how='left')\n",
    "\n",
    "train_house_no_nan = train_house[pd.notnull(train_house.couple_children_0_to_5_years)]\n",
    "train_spatial_no_nan = train_spatial[pd.notnull(train_spatial.grunnkrets_name)]\n",
    "train_income_no_nan = train_income[pd.notnull(train_income.income_all_households)]"
   ]
  },
  {
   "cell_type": "code",
   "execution_count": 76,
   "metadata": {},
   "outputs": [
    {
     "name": "stdout",
     "output_type": "stream",
     "text": [
      "12859 12859 12735\n",
      "12859\n"
     ]
    },
    {
     "data": {
      "text/plain": [
       "store_id                                    0\n",
       "year                                        0\n",
       "store_name                                  0\n",
       "plaace_hierarchy_id                         0\n",
       "sales_channel_name                          0\n",
       "grunnkrets_id                               0\n",
       "address                                  1774\n",
       "lat                                         0\n",
       "lon                                         0\n",
       "chain_name                               9122\n",
       "mall_name                               10579\n",
       "revenue                                     0\n",
       "couple_children_0_to_5_years              124\n",
       "couple_children_18_or_above               124\n",
       "couple_children_6_to_17_years             124\n",
       "couple_without_children                   124\n",
       "single_parent_children_0_to_5_years       124\n",
       "single_parent_children_18_or_above        124\n",
       "single_parent_children_6_to_17_years      124\n",
       "singles                                   124\n",
       "dtype: int64"
      ]
     },
     "execution_count": 76,
     "metadata": {},
     "output_type": "execute_result"
    }
   ],
   "source": [
    "# for df in [train_house_no_nan, train_spatial_no_nan, train_income_no_nan]:\n",
    "#     cols_to_use = df.columns.difference(train.columns)\n",
    "#     train = train.merge(df[['grunnkrets_id', *cols_to_use]], on='grunnkrets_id', how='left')\n",
    "\n",
    "# train = train.merge(train_house_no_nan[['grunnkrets_id', *train_house_no_nan.columns.difference(train)]], on='grunnkrets_id', how='left')\n",
    "\n",
    "print(len(train), len(train_house), len(train_house_no_nan))\n",
    "train_house_no_nan.head()\n",
    "print(len(train_house))\n",
    "pd.notnull(train_house.couple_children_0_to_5_years)\n",
    "\n",
    "train_house.isna().sum()\n",
    "\n"
   ]
  }
 ],
 "metadata": {
  "kernelspec": {
   "display_name": "Python 3.8.10 ('venv': venv)",
   "language": "python",
   "name": "python3"
  },
  "language_info": {
   "codemirror_mode": {
    "name": "ipython",
    "version": 3
   },
   "file_extension": ".py",
   "mimetype": "text/x-python",
   "name": "python",
   "nbconvert_exporter": "python",
   "pygments_lexer": "ipython3",
   "version": "3.8.10"
  },
  "orig_nbformat": 4,
  "vscode": {
   "interpreter": {
    "hash": "1beb4c19f9c9850d9088b15a4a1b3063555a573f9fb8d1ae667cbe7a8ada917e"
   }
  }
 },
 "nbformat": 4,
 "nbformat_minor": 2
}
