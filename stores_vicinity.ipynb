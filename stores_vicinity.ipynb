{
 "cells": [
  {
   "cell_type": "code",
   "execution_count": 33,
   "metadata": {},
   "outputs": [],
   "source": [
    "import pandas as pd\n",
    "import geopandas as gpd\n",
    "import os\n",
    "import numpy as np\n",
    "import matplotlib.pyplot as plt\n",
    "\n",
    "from shapely import wkt\n",
    "from shapely.geometry import Point\n",
    "from tqdm import tqdm\n",
    "\n",
    "tqdm.pandas()\n",
    "\n",
    "train = pd.read_csv('data/stores_train.csv')\n",
    "train = gpd.GeoDataFrame(train, geometry=gpd.points_from_xy(train.lon, train.lat)).drop(columns=['lon', 'lat'])\n",
    "train = train.set_crs('epsg:4326', allow_override=True).to_crs('epsg:3857')\n",
    "\n",
    "train_extra = pd.read_csv('data/stores_extra.csv')\n",
    "train_extra = gpd.GeoDataFrame(train_extra, geometry=gpd.points_from_xy(train_extra.lon, train_extra.lat)).drop(columns=['lon', 'lat'])\n",
    "train_extra = train_extra.set_crs('epsg:4326', allow_override=True).to_crs('epsg:3857')\n",
    "\n",
    "test = pd.read_csv('data/stores_test.csv')\n",
    "test = gpd.GeoDataFrame(test, geometry=gpd.points_from_xy(test.lon, test.lat)).drop(columns=['lon', 'lat'])\n",
    "test = test.set_crs('epsg:4326', allow_override=True).to_crs('epsg:3857')"
   ]
  },
  {
   "cell_type": "code",
   "execution_count": 13,
   "metadata": {},
   "outputs": [
    {
     "data": {
      "text/html": [
       "<div>\n",
       "<style scoped>\n",
       "    .dataframe tbody tr th:only-of-type {\n",
       "        vertical-align: middle;\n",
       "    }\n",
       "\n",
       "    .dataframe tbody tr th {\n",
       "        vertical-align: top;\n",
       "    }\n",
       "\n",
       "    .dataframe thead th {\n",
       "        text-align: right;\n",
       "    }\n",
       "</style>\n",
       "<table border=\"1\" class=\"dataframe\">\n",
       "  <thead>\n",
       "    <tr style=\"text-align: right;\">\n",
       "      <th></th>\n",
       "      <th>store_id</th>\n",
       "      <th>year</th>\n",
       "      <th>store_name</th>\n",
       "      <th>plaace_hierarchy_id</th>\n",
       "      <th>sales_channel_name</th>\n",
       "      <th>grunnkrets_id</th>\n",
       "      <th>address</th>\n",
       "      <th>chain_name</th>\n",
       "      <th>mall_name</th>\n",
       "      <th>revenue</th>\n",
       "      <th>geometry</th>\n",
       "    </tr>\n",
       "  </thead>\n",
       "  <tbody>\n",
       "    <tr>\n",
       "      <th>0</th>\n",
       "      <td>983540538-974187930-44774</td>\n",
       "      <td>2016</td>\n",
       "      <td>MCDONALD'S BRAGERNES TORG MAGASINET</td>\n",
       "      <td>1.1.1.0</td>\n",
       "      <td>Hamburger restaurants</td>\n",
       "      <td>6020303</td>\n",
       "      <td>BRAGERNES TORG 13</td>\n",
       "      <td>MCDONALDS</td>\n",
       "      <td>Magasinet Drammen</td>\n",
       "      <td>17.998</td>\n",
       "      <td>POINT (1136007.376 8342763.593)</td>\n",
       "    </tr>\n",
       "    <tr>\n",
       "      <th>1</th>\n",
       "      <td>987074191-973117734-44755</td>\n",
       "      <td>2016</td>\n",
       "      <td>MCDONALD'S KLINGENBERGGATA</td>\n",
       "      <td>1.1.1.0</td>\n",
       "      <td>Hamburger restaurants</td>\n",
       "      <td>3010306</td>\n",
       "      <td>NaN</td>\n",
       "      <td>MCDONALDS</td>\n",
       "      <td>NaN</td>\n",
       "      <td>23.828</td>\n",
       "      <td>POINT (1194906.839 8380562.352)</td>\n",
       "    </tr>\n",
       "    <tr>\n",
       "      <th>2</th>\n",
       "      <td>984890265-981157303-64491</td>\n",
       "      <td>2016</td>\n",
       "      <td>BURGER KING HØNEFOSS</td>\n",
       "      <td>1.1.1.0</td>\n",
       "      <td>Hamburger restaurants</td>\n",
       "      <td>6050102</td>\n",
       "      <td>KONG RINGS GATE 1</td>\n",
       "      <td>BURGER KING</td>\n",
       "      <td>Kuben Hønefoss</td>\n",
       "      <td>16.099</td>\n",
       "      <td>POINT (1141543.072 8436509.485)</td>\n",
       "    </tr>\n",
       "    <tr>\n",
       "      <th>3</th>\n",
       "      <td>914057442-992924179-126912</td>\n",
       "      <td>2016</td>\n",
       "      <td>BURGER KING GLASSHUSPASSASJEN</td>\n",
       "      <td>1.1.1.0</td>\n",
       "      <td>Hamburger restaurants</td>\n",
       "      <td>18040102</td>\n",
       "      <td>STORGATA 12</td>\n",
       "      <td>BURGER KING</td>\n",
       "      <td>Glasshuspassasjen</td>\n",
       "      <td>9.296</td>\n",
       "      <td>POINT (1600751.595 10237351.427)</td>\n",
       "    </tr>\n",
       "    <tr>\n",
       "      <th>4</th>\n",
       "      <td>913018583-913063538-668469</td>\n",
       "      <td>2016</td>\n",
       "      <td>BURGER KING TILLERTORGET</td>\n",
       "      <td>1.1.1.0</td>\n",
       "      <td>Hamburger restaurants</td>\n",
       "      <td>16017414</td>\n",
       "      <td>NaN</td>\n",
       "      <td>BURGER KING</td>\n",
       "      <td>Tillertorget</td>\n",
       "      <td>4.528</td>\n",
       "      <td>POINT (1154921.068 9188593.406)</td>\n",
       "    </tr>\n",
       "  </tbody>\n",
       "</table>\n",
       "</div>"
      ],
      "text/plain": [
       "                     store_id  year                           store_name  \\\n",
       "0   983540538-974187930-44774  2016  MCDONALD'S BRAGERNES TORG MAGASINET   \n",
       "1   987074191-973117734-44755  2016           MCDONALD'S KLINGENBERGGATA   \n",
       "2   984890265-981157303-64491  2016                 BURGER KING HØNEFOSS   \n",
       "3  914057442-992924179-126912  2016        BURGER KING GLASSHUSPASSASJEN   \n",
       "4  913018583-913063538-668469  2016             BURGER KING TILLERTORGET   \n",
       "\n",
       "  plaace_hierarchy_id     sales_channel_name  grunnkrets_id  \\\n",
       "0             1.1.1.0  Hamburger restaurants        6020303   \n",
       "1             1.1.1.0  Hamburger restaurants        3010306   \n",
       "2             1.1.1.0  Hamburger restaurants        6050102   \n",
       "3             1.1.1.0  Hamburger restaurants       18040102   \n",
       "4             1.1.1.0  Hamburger restaurants       16017414   \n",
       "\n",
       "             address   chain_name          mall_name  revenue  \\\n",
       "0  BRAGERNES TORG 13    MCDONALDS  Magasinet Drammen   17.998   \n",
       "1                NaN    MCDONALDS                NaN   23.828   \n",
       "2  KONG RINGS GATE 1  BURGER KING     Kuben Hønefoss   16.099   \n",
       "3        STORGATA 12  BURGER KING  Glasshuspassasjen    9.296   \n",
       "4                NaN  BURGER KING       Tillertorget    4.528   \n",
       "\n",
       "                           geometry  \n",
       "0   POINT (1136007.376 8342763.593)  \n",
       "1   POINT (1194906.839 8380562.352)  \n",
       "2   POINT (1141543.072 8436509.485)  \n",
       "3  POINT (1600751.595 10237351.427)  \n",
       "4   POINT (1154921.068 9188593.406)  "
      ]
     },
     "execution_count": 13,
     "metadata": {},
     "output_type": "execute_result"
    }
   ],
   "source": [
    "train.head()"
   ]
  },
  {
   "cell_type": "code",
   "execution_count": 23,
   "metadata": {},
   "outputs": [
    {
     "name": "stderr",
     "output_type": "stream",
     "text": [
      "100%|██████████| 41543/41543 [07:00<00:00, 98.72it/s] \n"
     ]
    }
   ],
   "source": [
    "data = pd.concat([train, train_extra], ignore_index=True)[['store_id', 'geometry']]\n",
    "\n",
    "def store_count_in_vicinity(row: pd.Series):\n",
    "    stores_in_vicinity = data[data.distance(row.geometry) < 1000]\n",
    "    return {'stores_count_lt_1km': len(stores_in_vicinity)}\n",
    "\n",
    "\n",
    "data = data.join(data.progress_apply(lambda row: store_count_in_vicinity(row), axis=1, result_type='expand'))\n",
    "data.to_parquet('derived_data/stores_count_lt_1km_train')\n"
   ]
  },
  {
   "cell_type": "code",
   "execution_count": 52,
   "metadata": {},
   "outputs": [
    {
     "data": {
      "text/plain": [
       "<AxesSubplot: >"
      ]
     },
     "execution_count": 52,
     "metadata": {},
     "output_type": "execute_result"
    },
    {
     "data": {
      "image/png": "[encoded data removed]",
      "text/plain": [
       "<Figure size 640x480 with 1 Axes>"
      ]
     },
     "metadata": {},
     "output_type": "display_data"
    }
   ],
   "source": [
    "stores = gpd.read_parquet('derived_data/stores_count_lt_1km_train')\n",
    "# print(len(stores_count_lt_1km), len(data))\n",
    "# plt.hist(np.log1p(stores_count_lt_1km.stores_count_lt_1km), bins=15)\n",
    "\n",
    "\n",
    "train_w_counts = pd.merge(train, stores.drop(columns=['geometry']), on='store_id', how='left')\n",
    "train_w_counts = gpd.GeoDataFrame(train_w_counts, geometry=train_w_counts.geometry)\n",
    "# train_w_counts = train_w_counts.set_crs('epsg:3857')\n",
    "\n",
    "train_w_counts.plot(column='stores_count_lt_1km', cmap='Reds')\n",
    "\n",
    "# stores[stores.stores_count_lt_1km > 100].plot(column='stores_count_lt_1km', cmap='Reds')\n",
    "\n",
    "# stores"
   ]
  }
 ],
 "metadata": {
  "kernelspec": {
   "display_name": "Python 3.8.10 ('venv': venv)",
   "language": "python",
   "name": "python3"
  },
  "language_info": {
   "codemirror_mode": {
    "name": "ipython",
    "version": 3
   },
   "file_extension": ".py",
   "mimetype": "text/x-python",
   "name": "python",
   "nbconvert_exporter": "python",
   "pygments_lexer": "ipython3",
   "version": "3.8.10"
  },
  "orig_nbformat": 4,
  "vscode": {
   "interpreter": {
    "hash": "1beb4c19f9c9850d9088b15a4a1b3063555a573f9fb8d1ae667cbe7a8ada917e"
   }
  }
 },
 "nbformat": 4,
 "nbformat_minor": 2
}
