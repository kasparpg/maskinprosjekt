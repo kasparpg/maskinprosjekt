{
 "cells": [
  {
   "cell_type": "code",
   "execution_count": 5,
   "metadata": {},
   "outputs": [],
   "source": [
    "import geopy\n",
    "import pandas as pd\n",
    "import numpy as np\n",
    "\n",
    "from pyproj import Geod\n",
    "from shapely.geometry import Point, LineString\n",
    "\n",
    "X = pd.read_csv('../data/stores_train.csv')\n",
    "spatial = pd.read_csv('../data/grunnkrets_norway_stripped.csv')\n",
    "age = pd.read_csv('../data/grunnkrets_age_distribution.csv')"
   ]
  },
  {
   "cell_type": "code",
   "execution_count": 6,
   "metadata": {},
   "outputs": [
    {
     "name": "stderr",
     "output_type": "stream",
     "text": [
      "/var/folders/55/fnz5gpdd2vn8_5ncwxtldqww0000gp/T/ipykernel_68270/3153172759.py:4: UserWarning: Boolean Series key will be reindexed to match DataFrame index.\n",
      "  age.drop_duplicates(subset='grunnkrets_id')[age.grunnkrets_id == 3011703]\n"
     ]
    },
    {
     "data": {
      "text/html": [
       "<div>\n",
       "<style scoped>\n",
       "    .dataframe tbody tr th:only-of-type {\n",
       "        vertical-align: middle;\n",
       "    }\n",
       "\n",
       "    .dataframe tbody tr th {\n",
       "        vertical-align: top;\n",
       "    }\n",
       "\n",
       "    .dataframe thead th {\n",
       "        text-align: right;\n",
       "    }\n",
       "</style>\n",
       "<table border=\"1\" class=\"dataframe\">\n",
       "  <thead>\n",
       "    <tr style=\"text-align: right;\">\n",
       "      <th></th>\n",
       "      <th>grunnkrets_id</th>\n",
       "      <th>year</th>\n",
       "      <th>age_0</th>\n",
       "      <th>age_1</th>\n",
       "      <th>age_2</th>\n",
       "      <th>age_3</th>\n",
       "      <th>age_4</th>\n",
       "      <th>age_5</th>\n",
       "      <th>age_6</th>\n",
       "      <th>age_7</th>\n",
       "      <th>...</th>\n",
       "      <th>age_81</th>\n",
       "      <th>age_82</th>\n",
       "      <th>age_83</th>\n",
       "      <th>age_84</th>\n",
       "      <th>age_85</th>\n",
       "      <th>age_86</th>\n",
       "      <th>age_87</th>\n",
       "      <th>age_88</th>\n",
       "      <th>age_89</th>\n",
       "      <th>age_90</th>\n",
       "    </tr>\n",
       "  </thead>\n",
       "  <tbody>\n",
       "    <tr>\n",
       "      <th>58</th>\n",
       "      <td>3011703</td>\n",
       "      <td>2015</td>\n",
       "      <td>8</td>\n",
       "      <td>8</td>\n",
       "      <td>8</td>\n",
       "      <td>8</td>\n",
       "      <td>8</td>\n",
       "      <td>7</td>\n",
       "      <td>7</td>\n",
       "      <td>6</td>\n",
       "      <td>...</td>\n",
       "      <td>1</td>\n",
       "      <td>1</td>\n",
       "      <td>1</td>\n",
       "      <td>1</td>\n",
       "      <td>1</td>\n",
       "      <td>1</td>\n",
       "      <td>1</td>\n",
       "      <td>1</td>\n",
       "      <td>1</td>\n",
       "      <td>0</td>\n",
       "    </tr>\n",
       "  </tbody>\n",
       "</table>\n",
       "<p>1 rows × 93 columns</p>\n",
       "</div>"
      ],
      "text/plain": [
       "    grunnkrets_id  year  age_0  age_1  age_2  age_3  age_4  age_5  age_6  \\\n",
       "58        3011703  2015      8      8      8      8      8      7      7   \n",
       "\n",
       "    age_7  ...  age_81  age_82  age_83  age_84  age_85  age_86  age_87  \\\n",
       "58      6  ...       1       1       1       1       1       1       1   \n",
       "\n",
       "    age_88  age_89  age_90  \n",
       "58       1       1       0  \n",
       "\n",
       "[1 rows x 93 columns]"
      ]
     },
     "execution_count": 6,
     "metadata": {},
     "output_type": "execute_result"
    }
   ],
   "source": [
    "spatial.head()\n",
    "age.head()\n",
    "# age.loc(age.grunnkrets_id == 3011703)\n",
    "age.drop_duplicates(subset='grunnkrets_id')[age.grunnkrets_id == 3011703]\n"
   ]
  },
  {
   "cell_type": "code",
   "execution_count": 7,
   "metadata": {},
   "outputs": [
    {
     "name": "stderr",
     "output_type": "stream",
     "text": [
      "/var/folders/55/fnz5gpdd2vn8_5ncwxtldqww0000gp/T/ipykernel_68270/2877985337.py:7: FutureWarning: Indexing with multiple keys (implicitly converted to a tuple of keys) will be deprecated, use a list instead.\n",
      "  _ = X.groupby(['municipality_name'])['lat', 'lon'].apply(lambda x: x.sum() / (x.count()))[['lat', 'lon']]\n"
     ]
    }
   ],
   "source": [
    "gk_muni = spatial[['grunnkrets_id', 'municipality_name']]\n",
    "\n",
    "old_shape = X.shape\n",
    "# print(len(X.merge(gk_muni, on='grunnkrets_id', how='right')))\n",
    "X = X.merge(gk_muni, on='grunnkrets_id', how='left')\n",
    "\n",
    "_ = X.groupby(['municipality_name'])['lat', 'lon'].apply(lambda x: x.sum() / (x.count()))[['lat', 'lon']]\n",
    "X = X.merge(_, on=['municipality_name'], how='left', suffixes=(None, '_center')).drop_duplicates()\n",
    "assert X.shape[0] == old_shape[0]\n",
    "\n",
    "def meter_distance(lat1, lon1, lat2, lon2):\n",
    "    line_string = LineString([Point(lon1, lat1), Point(lon2, lat2)])\n",
    "    geod = Geod(ellps=\"WGS84\")\n",
    "    return geod.geometry_length(line_string)\n",
    "\n",
    "\n",
    "X.fillna(value={'lat_center': 63, 'lon_center': 10}, inplace=True)\n",
    "X.isnull().sum()\n",
    "\n",
    "X['dist_to_center'] = X.apply(lambda row: meter_distance(row.lat, row.lon, row.lat_center, row.lon_center), axis=1)\n",
    "X[20:30]\n",
    "\n",
    "assert X.shape[0] == old_shape[0]\n",
    "\n"
   ]
  },
  {
   "cell_type": "code",
   "execution_count": 8,
   "metadata": {},
   "outputs": [
    {
     "data": {
      "text/html": [
       "<div>\n",
       "<style scoped>\n",
       "    .dataframe tbody tr th:only-of-type {\n",
       "        vertical-align: middle;\n",
       "    }\n",
       "\n",
       "    .dataframe tbody tr th {\n",
       "        vertical-align: top;\n",
       "    }\n",
       "\n",
       "    .dataframe thead th {\n",
       "        text-align: right;\n",
       "    }\n",
       "</style>\n",
       "<table border=\"1\" class=\"dataframe\">\n",
       "  <thead>\n",
       "    <tr style=\"text-align: right;\">\n",
       "      <th></th>\n",
       "      <th>municipality_name</th>\n",
       "      <th>lat_center</th>\n",
       "    </tr>\n",
       "  </thead>\n",
       "  <tbody>\n",
       "    <tr>\n",
       "      <th>0</th>\n",
       "      <td>Drammen</td>\n",
       "      <td>59.740315</td>\n",
       "    </tr>\n",
       "    <tr>\n",
       "      <th>2</th>\n",
       "      <td>Oslo</td>\n",
       "      <td>59.919972</td>\n",
       "    </tr>\n",
       "    <tr>\n",
       "      <th>4</th>\n",
       "      <td>Ringerike</td>\n",
       "      <td>60.176006</td>\n",
       "    </tr>\n",
       "    <tr>\n",
       "      <th>6</th>\n",
       "      <td>Bodø</td>\n",
       "      <td>67.283052</td>\n",
       "    </tr>\n",
       "    <tr>\n",
       "      <th>8</th>\n",
       "      <td>Trondheim</td>\n",
       "      <td>63.418063</td>\n",
       "    </tr>\n",
       "    <tr>\n",
       "      <th>...</th>\n",
       "      <td>...</td>\n",
       "      <td>...</td>\n",
       "    </tr>\n",
       "    <tr>\n",
       "      <th>25678</th>\n",
       "      <td>Horten</td>\n",
       "      <td>59.404396</td>\n",
       "    </tr>\n",
       "    <tr>\n",
       "      <th>25680</th>\n",
       "      <td>Gjøvik</td>\n",
       "      <td>60.806942</td>\n",
       "    </tr>\n",
       "    <tr>\n",
       "      <th>25682</th>\n",
       "      <td>Skedsmo</td>\n",
       "      <td>59.957614</td>\n",
       "    </tr>\n",
       "    <tr>\n",
       "      <th>25684</th>\n",
       "      <td>Sandnes</td>\n",
       "      <td>58.857718</td>\n",
       "    </tr>\n",
       "    <tr>\n",
       "      <th>25686</th>\n",
       "      <td>Tromsø</td>\n",
       "      <td>69.654962</td>\n",
       "    </tr>\n",
       "  </tbody>\n",
       "</table>\n",
       "<p>12859 rows × 2 columns</p>\n",
       "</div>"
      ],
      "text/plain": [
       "      municipality_name  lat_center\n",
       "0               Drammen   59.740315\n",
       "2                  Oslo   59.919972\n",
       "4             Ringerike   60.176006\n",
       "6                  Bodø   67.283052\n",
       "8             Trondheim   63.418063\n",
       "...                 ...         ...\n",
       "25678            Horten   59.404396\n",
       "25680            Gjøvik   60.806942\n",
       "25682           Skedsmo   59.957614\n",
       "25684           Sandnes   58.857718\n",
       "25686            Tromsø   69.654962\n",
       "\n",
       "[12859 rows x 2 columns]"
      ]
     },
     "execution_count": 8,
     "metadata": {},
     "output_type": "execute_result"
    }
   ],
   "source": [
    "X[['municipality_name', 'lat_center']]\n"
   ]
  }
 ],
 "metadata": {
  "kernelspec": {
   "display_name": "Python 3.9.6 64-bit",
   "language": "python",
   "name": "python3"
  },
  "language_info": {
   "codemirror_mode": {
    "name": "ipython",
    "version": 3
   },
   "file_extension": ".py",
   "mimetype": "text/x-python",
   "name": "python",
   "nbconvert_exporter": "python",
   "pygments_lexer": "ipython3",
   "version": "3.9.6"
  },
  "orig_nbformat": 4,
  "vscode": {
   "interpreter": {
    "hash": "31f2aee4e71d21fbe5cf8b01ff0e069b9275f58929596ceb00d14d90e3e16cd6"
   }
  }
 },
 "nbformat": 4,
 "nbformat_minor": 2
}
