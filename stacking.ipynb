{
 "cells": [
  {
   "cell_type": "code",
   "execution_count": 11,
   "metadata": {},
   "outputs": [],
   "source": [
    "import os \n",
    "import pandas as pd\n",
    "import numpy as np"
   ]
  },
  {
   "cell_type": "code",
   "execution_count": 12,
   "metadata": {},
   "outputs": [],
   "source": [
    "preds = []\n",
    "for file_name in os.listdir('best_submissions/'):\n",
    "    df = pd.read_csv('best_submissions/' + file_name)\n",
    "    preds.append(df.predicted.tolist())\n"
   ]
  },
  {
   "cell_type": "code",
   "execution_count": 13,
   "metadata": {},
   "outputs": [
    {
     "name": "stdout",
     "output_type": "stream",
     "text": [
      "[4.21721245 6.57598745 6.58942248 ... 4.68228617 2.8022014  2.2706388 ]\n"
     ]
    }
   ],
   "source": [
    "preds = np.array(preds)\n",
    "preds_avg = np.mean(preds, axis=0)\n",
    "print(preds_avg)\n"
   ]
  },
  {
   "cell_type": "code",
   "execution_count": 14,
   "metadata": {},
   "outputs": [],
   "source": [
    "submission = pd.read_csv('data/sample_submission.csv')\n",
    "submission['predicted'] = preds_avg\n",
    "submission.to_csv('best_submissions/submission_stacked.csv', index=False)\n"
   ]
  }
 ],
 "metadata": {
  "kernelspec": {
   "display_name": "Python 3.9.7 ('venv': venv)",
   "language": "python",
   "name": "python3"
  },
  "language_info": {
   "codemirror_mode": {
    "name": "ipython",
    "version": 3
   },
   "file_extension": ".py",
   "mimetype": "text/x-python",
   "name": "python",
   "nbconvert_exporter": "python",
   "pygments_lexer": "ipython3",
   "version": "3.9.7"
  },
  "orig_nbformat": 4,
  "vscode": {
   "interpreter": {
    "hash": "0e2ea0f36db49dc3a60c37b7f078d500b77d5d75191602c16443113e1dc81938"
   }
  }
 },
 "nbformat": 4,
 "nbformat_minor": 2
}
